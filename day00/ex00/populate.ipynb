{
 "cells": [
  {
   "cell_type": "code",
   "execution_count": 1,
   "metadata": {},
   "outputs": [
    {
     "ename": "DuplicateTable",
     "evalue": "relation \"appstore_games\" already exists\n",
     "output_type": "error",
     "traceback": [
      "\u001b[0;31m---------------------------------------------------------------------\u001b[0m",
      "\u001b[0;31mDuplicateTable\u001b[0m                      Traceback (most recent call last)",
      "\u001b[0;32m<ipython-input-1-5db8cb31ebe5>\u001b[0m in \u001b[0;36m<module>\u001b[0;34m\u001b[0m\n\u001b[1;32m     24\u001b[0m              \u001b[0mRelease_date\u001b[0m \u001b[0mdate\u001b[0m\u001b[0;34m,\u001b[0m\u001b[0;34m\u001b[0m\u001b[0;34m\u001b[0m\u001b[0m\n\u001b[1;32m     25\u001b[0m              \u001b[0mLast_update\u001b[0m \u001b[0mdate\u001b[0m\u001b[0;34m\u001b[0m\u001b[0;34m\u001b[0m\u001b[0m\n\u001b[0;32m---> 26\u001b[0;31m              );\"\"\")\n\u001b[0m\u001b[1;32m     27\u001b[0m \u001b[0mconn\u001b[0m\u001b[0;34m.\u001b[0m\u001b[0mcommit\u001b[0m\u001b[0;34m(\u001b[0m\u001b[0;34m)\u001b[0m\u001b[0;34m\u001b[0m\u001b[0;34m\u001b[0m\u001b[0m\n\u001b[1;32m     28\u001b[0m \u001b[0mconn\u001b[0m\u001b[0;34m.\u001b[0m\u001b[0mclose\u001b[0m\u001b[0;34m(\u001b[0m\u001b[0;34m)\u001b[0m\u001b[0;34m\u001b[0m\u001b[0;34m\u001b[0m\u001b[0m\n",
      "\u001b[0;31mDuplicateTable\u001b[0m: relation \"appstore_games\" already exists\n"
     ]
    }
   ],
   "source": [
    "import psycopg2\n",
    "\n",
    "conn = psycopg2.connect(\n",
    "    database=\"appstore_games\",\n",
    "    host=\"localhost\",\n",
    "    user=\"postgres_user\",\n",
    "    password=\"12345\"\n",
    ")\n",
    "curr = conn.cursor()\n",
    "\n",
    "curr.execute(\"\"\"CREATE TABLE appstore_games(\n",
    "             id bigint PRIMARY KEY,\n",
    "             Name varchar(64),\n",
    "             Avg_user_rating float,\n",
    "             User_rating_count int,\n",
    "             Price float,\n",
    "             Description varchar(255),\n",
    "             Developer varchar(64),\n",
    "             Age_rating int,\n",
    "             Languages varchar(64),\n",
    "             Size bigint, \n",
    "             Primary_genre varchar(16),\n",
    "             Genres varchar(64),\n",
    "             Release_date date,\n",
    "             Last_update date\n",
    "             );\"\"\")\n",
    "conn.commit()\n",
    "conn.close()"
   ]
  },
  {
   "cell_type": "code",
   "execution_count": 51,
   "metadata": {},
   "outputs": [],
   "source": [
    "import pandas as pd\n",
    "\n",
    "def df_nan_filter(df):\n",
    "    df = df[df[\"Size\"].notnull()]              # remove \"Size\" row if size is null\n",
    "    df[\"Languages\"].fillna(\"EN\", inplace=True) # set \"EN\" as langage if value is null\n",
    "    df[\"Price\"].fillna(0.0, inplace=True)      # set 0.0 as price if value is null\n",
    "    df[\"Average User Rating\"].fillna(df[\"Average User Rating\"].median(), inplace=True) # set median as user_rating if value is null\n",
    "    df[\"User Rating Count\"].fillna(1, inplace=True) #replace nan counts with 1\n",
    "    return (df)\n",
    "\n",
    "def special_char_filter(s: str):\n",
    "    tmp = s.encode().decode()\n",
    "    tmp = tmp.strip('\"')\n",
    "    return (''.join(e for e in tmp if e.isascii()))\n",
    "\n",
    "df = pd.read_csv(\"appstore_games.csv\")\n",
    "df = df[[\"ID\", \"Name\", \"Average User Rating\",\n",
    "          \"User Rating Count\", \"Price\", \"Description\",\n",
    "          \"Developer\", \"Age Rating\", \"Languages\",\n",
    "          \"Size\", \"Primary Genre\", \"Genres\",\n",
    "          \"Original Release Date\", \"Current Version Release Date\"]]\n",
    "\n",
    "df = nan_filter(df)\n",
    "\n",
    "for col in df:\n",
    "    df[col] = df[col].apply(lambda x: special_char_filter(str(x)))"
   ]
  }
 ],
 "metadata": {
  "kernelspec": {
   "display_name": "Python 3",
   "language": "python",
   "name": "python3"
  },
  "language_info": {
   "codemirror_mode": {
    "name": "ipython",
    "version": 3
   },
   "file_extension": ".py",
   "mimetype": "text/x-python",
   "name": "python",
   "nbconvert_exporter": "python",
   "pygments_lexer": "ipython3",
   "version": "3.7.4"
  }
 },
 "nbformat": 4,
 "nbformat_minor": 2
}
