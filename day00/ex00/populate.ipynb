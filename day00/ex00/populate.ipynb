{
 "cells": [
  {
   "cell_type": "code",
   "execution_count": 10,
   "metadata": {},
   "outputs": [
    {
     "name": "stderr",
     "output_type": "stream",
     "text": [
      "/home/misteir/miniconda3/lib/python3.7/site-packages/ipykernel_launcher.py:11: SettingWithCopyWarning: \n",
      "A value is trying to be set on a copy of a slice from a DataFrame\n",
      "\n",
      "See the caveats in the documentation: http://pandas.pydata.org/pandas-docs/stable/user_guide/indexing.html#returning-a-view-versus-a-copy\n",
      "  # This is added back by InteractiveShellApp.init_path()\n"
     ]
    }
   ],
   "source": [
    "import pandas as pd\n",
    "import psycopg2\n",
    "import re\n",
    "\n",
    "def df_nan_filter(df):\n",
    "    df = df[df[\"Size\"].notnull()]              # remove \"Size\" row if size is null\n",
    "    df[\"Languages\"].fillna(\"EN\", inplace=True) # set \"EN\" as langage if value is null\n",
    "    df[\"Price\"].fillna(0.0, inplace=True)      # set 0.0 as price if value is null\n",
    "    df[\"Average User Rating\"].fillna(df[\"Average User Rating\"].median(), inplace=True) # set median as user_rating if value is null\n",
    "    df[\"User Rating Count\"].fillna(1, inplace=True) #replace nan counts with 1\n",
    "    df.drop_duplicates(subset =\"ID\", inplace = True)\n",
    "    return (df)\n",
    "\n",
    "import ast\n",
    "\n",
    "def string_filter(s: str):\n",
    "    s = ast.literal_eval(\"b'''%s'''\" % s)\n",
    "    s = s.decode('raw_unicode_escape').encode('ascii', 'ignore')\n",
    "    s = re.sub('[\\t\\n\\r\\v\\f]', ' ', s.decode())\n",
    "    s = re.sub(' +', ' ', s)\n",
    "    s = s.strip('\"')\n",
    "    return (s)\n",
    "\n",
    "df = pd.read_csv(\"appstore_games.csv\")\n",
    "df = df[[\"ID\", \"Name\", \"Average User Rating\",\n",
    "          \"User Rating Count\", \"Price\", \"Description\",\n",
    "          \"Developer\", \"Age Rating\", \"Languages\",\n",
    "          \"Size\", \"Primary Genre\", \"Genres\",\n",
    "          \"Original Release Date\", \"Current Version Release Date\"]]\n",
    "\n",
    "df = df_nan_filter(df)\n",
    "\n",
    "for col in df:\n",
    "    df[col] = df[col].apply(lambda x: string_filter(str(x)))\n",
    "\n",
    "df.to_csv(\"filtered_appstore_games.csv\")"
   ]
  },
  {
   "cell_type": "code",
   "execution_count": 11,
   "metadata": {},
   "outputs": [],
   "source": [
    "def delete_table():\n",
    "    conn = psycopg2.connect(\n",
    "        database=\"appstore_games\",\n",
    "        host=\"localhost\",\n",
    "        user=\"postgres_user\",\n",
    "        password=\"12345\"\n",
    "    )\n",
    "    curr = conn.cursor()\n",
    "    curr.execute('DROP TABLE test;')          \n",
    "    conn.commit()\n",
    "    conn.close()\n",
    "\n",
    "def create_table():\n",
    "    conn = psycopg2.connect(\n",
    "        database=\"appstore_games\",\n",
    "        host=\"localhost\",\n",
    "        user=\"postgres_user\",\n",
    "        password=\"12345\"\n",
    "    )\n",
    "    curr = conn.cursor()\n",
    "    curr.execute(\"\"\"CREATE TABLE test(\n",
    "             Id bigint PRIMARY KEY,\n",
    "             Name varchar,\n",
    "             Avg_user_rating float,\n",
    "             User_rating_count float,\n",
    "             Price float,\n",
    "             Description varchar,\n",
    "             Developer varchar,\n",
    "             Age_rating varchar,\n",
    "             Languages varchar,\n",
    "             Size float, \n",
    "             Primary_genre varchar,\n",
    "             Genres varchar,\n",
    "             Release_date date,\n",
    "             Last_update date\n",
    "             );\"\"\")           \n",
    "    conn.commit()\n",
    "    conn.close()\n",
    "\n",
    "def populate(df):\n",
    "    conn = psycopg2.connect(\n",
    "        database=\"appstore_games\",\n",
    "        host=\"localhost\",\n",
    "        user=\"postgres_user\",\n",
    "        password=\"12345\"\n",
    "    )\n",
    "    curr = conn.cursor()\n",
    "    for idx in range(df.shape[0]):\n",
    "        tmp = df.iloc[idx]\n",
    "        curr.execute(\"\"\"INSERT INTO test\n",
    "            (Id, Name, Avg_user_rating, User_rating_count, Price, Description, Developer,\n",
    "            Age_rating, Languages, Size, Primary_genre, Genres, Release_date, Last_update\n",
    "            ) VALUES (%s, %s, %s, %s, %s, %s, %s, %s, %s, %s, %s, %s, %s, %s)\"\"\",\n",
    "                (tmp[\"ID\"], tmp[\"Name\"], tmp[\"Average User Rating\"], tmp[\"User Rating Count\"],\n",
    "                 tmp[\"Price\"], tmp[\"Description\"], tmp[\"Developer\"], tmp[\"Age Rating\"],\n",
    "                 tmp[\"Languages\"], tmp[\"Size\"], tmp[\"Primary Genre\"], tmp[\"Genres\"],\n",
    "                 tmp[\"Current Version Release Date\"], tmp[\"Current Version Release Date\"]))\n",
    "    conn.commit()\n",
    "    conn.close()\n",
    "\n",
    "def display_table():\n",
    "    conn = psycopg2.connect(\n",
    "        database=\"appstore_games\",\n",
    "        host=\"localhost\",\n",
    "        user=\"postgres_user\",\n",
    "        password=\"12345\"\n",
    "    )\n",
    "    curr = conn.cursor()\n",
    "    curr.execute(\"\"\"SELECT * FROM test\"\"\")\n",
    "    response = curr.fetchall()\n",
    "    for row in response[:100]:\n",
    "        print(row)\n",
    "    conn.close()"
   ]
  },
  {
   "cell_type": "code",
   "execution_count": 12,
   "metadata": {},
   "outputs": [],
   "source": [
    "delete_table()\n",
    "create_table()"
   ]
  },
  {
   "cell_type": "code",
   "execution_count": 13,
   "metadata": {},
   "outputs": [],
   "source": [
    "insert_table(df)"
   ]
  },
  {
   "cell_type": "code",
   "execution_count": 15,
   "metadata": {},
   "outputs": [],
   "source": [
    "#display_table()"
   ]
  },
  {
   "cell_type": "code",
   "execution_count": null,
   "metadata": {},
   "outputs": [],
   "source": []
  }
 ],
 "metadata": {
  "kernelspec": {
   "display_name": "Python 3",
   "language": "python",
   "name": "python3"
  },
  "language_info": {
   "codemirror_mode": {
    "name": "ipython",
    "version": 3
   },
   "file_extension": ".py",
   "mimetype": "text/x-python",
   "name": "python",
   "nbconvert_exporter": "python",
   "pygments_lexer": "ipython3",
   "version": "3.7.4"
  }
 },
 "nbformat": 4,
 "nbformat_minor": 2
}
