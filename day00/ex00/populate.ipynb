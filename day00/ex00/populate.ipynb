{
 "cells": [
  {
   "cell_type": "code",
   "execution_count": 105,
   "metadata": {},
   "outputs": [],
   "source": [
    "import pandas as pd\n",
    "import psycopg2\n",
    "import re\n",
    "\n",
    "def df_nan_filter(df):\n",
    "    df = df[df[\"Size\"].notnull()]              # remove \"Size\" row if size is null\n",
    "    df[\"Languages\"].fillna(\"EN\", inplace=True) # set \"EN\" as langage if value is null\n",
    "    df[\"Price\"].fillna(0.0, inplace=True)      # set 0.0 as price if value is null\n",
    "    df[\"Average User Rating\"].fillna(df[\"Average User Rating\"].median(), inplace=True) # set median as user_rating if value is null\n",
    "    df[\"User Rating Count\"].fillna(1, inplace=True) #replace nan counts with 1\n",
    "    return (df)\n",
    "\n",
    "def special_char_filter(s: str):\n",
    "    s = re.sub(r'\\\\u.{4}', '', s)\n",
    "    s = re.sub(r'\\\\x.{2}', '', s)\n",
    "    s = re.sub(r'\\\\n', ' ', s)\n",
    "    s = re.sub(r'\\\\t', ' ', s)\n",
    "    s = re.sub(r'\\s+', ' ', s)\n",
    "    s = s.strip('\"')\n",
    "    return (''.join(e for e in s if e.isascii()))\n",
    "\n",
    "df = pd.read_csv(\"appstore_games.csv\")\n",
    "df = df[[\"ID\", \"Name\", \"Average User Rating\",\n",
    "          \"User Rating Count\", \"Price\", \"Description\",\n",
    "          \"Developer\", \"Age Rating\", \"Languages\",\n",
    "          \"Size\", \"Primary Genre\", \"Genres\",\n",
    "          \"Original Release Date\", \"Current Version Release Date\"]]\n",
    "\n",
    "df = df_nan_filter(df)\n",
    "\n",
    "for col in df:\n",
    "    df[col] = df[col].apply(lambda x: special_char_filter(str(x)))\n",
    "\n",
    "df.to_csv(\"filtered_appstore_games.csv\")"
   ]
  },
  {
   "cell_type": "code",
   "execution_count": 2,
   "metadata": {},
   "outputs": [],
   "source": [
    "def already_exists():\n",
    "    conn = psycopg2.connect(\n",
    "        database=\"appstore_games\",\n",
    "        host=\"localhost\",\n",
    "        user=\"postgres_user\",\n",
    "        password=\"12345\"\n",
    "    )\n",
    "    curr = conn.cursor()\n",
    "    curr.execute(\"select exists(select * from information_schema.tables where table_name=%s)\", ('appstore_games',))         \n",
    "    ver = curr.fetchone()[0]\n",
    "    conn.close()\n",
    "    return (ver)\n",
    "\n",
    "def create_table():\n",
    "    conn = psycopg2.connect(\n",
    "        database=\"appstore_games\",\n",
    "        host=\"localhost\",\n",
    "        user=\"postgres_user\",\n",
    "        password=\"12345\"\n",
    "    )\n",
    "    curr = conn.cursor()\n",
    "    curr.execute(\"\"\"CREATE TABLE appstore_games(\n",
    "             Id bigint PRIMARY KEY,\n",
    "             Name varchar,\n",
    "             Avg_user_rating float,\n",
    "             User_rating_count int,\n",
    "             Price float,\n",
    "             Description varchar,\n",
    "             Developer varchar,\n",
    "             Age_rating int,\n",
    "             Languages varchar,\n",
    "             Size bigint, \n",
    "             Primary_genre varchar,\n",
    "             Genres varchar,\n",
    "             Release_date date,\n",
    "             Last_update date\n",
    "             );\"\"\")          \n",
    "    conn.commit()\n",
    "    conn.close()\n",
    "\n",
    "def delete_table():\n",
    "    conn = psycopg2.connect(\n",
    "        database=\"appstore_games\",\n",
    "        host=\"localhost\",\n",
    "        user=\"postgres_user\",\n",
    "        password=\"12345\"\n",
    "    )\n",
    "    curr = conn.cursor()\n",
    "    curr.execute('DROP TABLE appstore_games;')          \n",
    "    conn.commit()\n",
    "    conn.close()"
   ]
  },
  {
   "cell_type": "code",
   "execution_count": 5,
   "metadata": {},
   "outputs": [],
   "source": [
    "create_table()\n",
    "#delete_table()"
   ]
  },
  {
   "cell_type": "code",
   "execution_count": 7,
   "metadata": {},
   "outputs": [],
   "source": [
    "import pandas as pd\n",
    "\n",
    "df = pd.read_csv(\"filtered_appstore_games.csv\")"
   ]
  },
  {
   "cell_type": "code",
   "execution_count": 32,
   "metadata": {},
   "outputs": [
    {
     "name": "stdout",
     "output_type": "stream",
     "text": [
      "(284921427, 'Sudoku', 4.0, 3553.0, 2.99, 'Join over 21,000,000 of our fans and download one of our Sudoku games today!\\\\n\\\\nMakers of the Best Sudoku Game of 2008, Sudoku (Free), we offer you the best selling Sudoku game for iPhone with great features and 1000 unique puzzles! \\\\n\\\\nSudoku will give you many hours of fun and puzzle solving. Enjoy the challenge of solving Sudoku puzzles whenever or wherever you are using your iPhone or iPod Touch. \\\\n\\\\nOPTIONS\\\\n\\\\nAll options are on by default, but you can turn them off in the Options menu\\\\n\\\\u2022 Show Incorrect :: Shows incorrect answers in red.  \\\\n\\\\u2022 Smart Buttons :: Disables the number button when that number is completed on the game board.   \\\\n\\\\u2022 Smart Notes :: Removes the number from the notes in the box, column, and row that contains the cell with your correct answer.\\\\n\\\\nFEATURES\\\\n\\\\n\\\\u2022 1000 unique handcrafted puzzles\\\\n\\\\u2022 ALL puzzles solvable WITHOUT guessing\\\\n\\\\u2022 Four different skill levels\\\\n\\\\u2022 Challenge a friend\\\\n\\\\u2022 Multiple color schemes\\\\n\\\\u2022 \"ALL notes\": tap the \"All notes\" button on to show all the possible answers for each square.  Tap the \"All notes\" button off to remove the notes.\\\\n\\\\u2022 Hints: shows the answer for the selected square or a random square when one is not selected\\\\n\\\\u2022 Pause the game at any time and resume where you left off\\\\n\\\\u2022 Best times, progress statistics, and much more\\\\n\\\\nDo you want more? Try one of our other versions of sudoku which have all the same great features!\\\\n* Try Color Sudoku for a fun twist to solving sudoku puzzles. \\\\n* For advanced puzzle solving, try Expert Sudoku to challenge your sudoku solving skills.', 'Mighty Mighty Good Games', '4+', 'DA, NL, EN, FI, FR, DE, IT, JA, KO, NB, PL, PT, RU, ZH, ES, SV, ZH', 15853568.0, 'Games', 'Games, Strategy, Puzzle', '11/07/2008', '30/05/2017')\n"
     ]
    }
   ],
   "source": [
    "from psycopg2 import sql\n",
    "\n",
    "def insert_table():\n",
    "    conn = psycopg2.connect(\n",
    "        database=\"appstore_games\",\n",
    "        host=\"localhost\",\n",
    "        user=\"postgres_user\",\n",
    "        password=\"12345\"\n",
    "    )\n",
    "    curr = conn.cursor()\n",
    "    for idx in range(df.shape[0]):\n",
    "        tmp = tuple(df.iloc[idx][1:])\n",
    "        query = \"\"\"INSERT INTO %s (Id, Name, Avg_user_rating, User_rating_count, Price, Description,\n",
    "                Developer, Age_rating, Languages, Size, Primary_genre, Genres, Release_date, Last_update\n",
    "              ) VALUES (%%s, %%s, %%s, %%s, %%s, %%s, %%s, %%s, %%s, %%s, %%s, %%s, %%s, %%s)\"\"\" % \"appstore_games\"\n",
    "        #curr.execute(query, tmp)\n",
    "        print(tmp)\n",
    "        break\n",
    "    conn.commit()\n",
    "    conn.close()\n",
    "insert_table()"
   ]
  },
  {
   "cell_type": "code",
   "execution_count": null,
   "metadata": {},
   "outputs": [],
   "source": []
  }
 ],
 "metadata": {
  "kernelspec": {
   "display_name": "Python 3",
   "language": "python",
   "name": "python3"
  },
  "language_info": {
   "codemirror_mode": {
    "name": "ipython",
    "version": 3
   },
   "file_extension": ".py",
   "mimetype": "text/x-python",
   "name": "python",
   "nbconvert_exporter": "python",
   "pygments_lexer": "ipython3",
   "version": "3.7.4"
  }
 },
 "nbformat": 4,
 "nbformat_minor": 2
}
