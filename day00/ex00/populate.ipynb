{
 "cells": [
  {
   "cell_type": "code",
   "execution_count": 8,
   "metadata": {},
   "outputs": [
    {
     "name": "stderr",
     "output_type": "stream",
     "text": [
      "/goinfre/miniconda3/lib/python3.7/site-packages/ipykernel_launcher.py:11: SettingWithCopyWarning: \n",
      "A value is trying to be set on a copy of a slice from a DataFrame\n",
      "\n",
      "See the caveats in the documentation: http://pandas.pydata.org/pandas-docs/stable/user_guide/indexing.html#returning-a-view-versus-a-copy\n",
      "  # This is added back by InteractiveShellApp.init_path()\n"
     ]
    }
   ],
   "source": [
    "import pandas as pd\n",
    "import psycopg2\n",
    "import re\n",
    "\n",
    "def df_nan_filter(df):\n",
    "    df = df[df[\"Size\"].notnull()]              # remove \"Size\" row if size is null\n",
    "    df[\"Languages\"].fillna(\"EN\", inplace=True) # set \"EN\" as langage if value is null\n",
    "    df[\"Price\"].fillna(0.0, inplace=True)      # set 0.0 as price if value is null\n",
    "    df[\"Average User Rating\"].fillna(df[\"Average User Rating\"].median(), inplace=True) # set median as user_rating if value is null\n",
    "    df[\"User Rating Count\"].fillna(1, inplace=True) #replace nan counts with 1\n",
    "    df.drop_duplicates(subset =\"ID\", inplace = True)\n",
    "    return (df)\n",
    "\n",
    "import ast\n",
    "\n",
    "def string_filter(s: str):\n",
    "    s = ast.literal_eval(\"b'''%s'''\" % s)\n",
    "    s = s.decode('raw_unicode_escape').encode('ascii', 'ignore')\n",
    "    s = re.sub('[\\t\\n\\r\\v\\f]', ' ', s.decode())\n",
    "    s = re.sub(' +', ' ', s)\n",
    "    s = s.strip('\"')\n",
    "    return (s)\n",
    "\n",
    "def change_date_format(date: str):\n",
    "    tmp = date.split('/')\n",
    "    return (tmp[2]+\"-\"+tmp[1]+\"-\"+tmp[0])\n",
    "    \n",
    "df = pd.read_csv(\"appstore_games.csv\")\n",
    "df = df[[\"ID\", \"Name\", \"Average User Rating\",\n",
    "          \"User Rating Count\", \"Price\", \"Description\",\n",
    "          \"Developer\", \"Age Rating\", \"Languages\",\n",
    "          \"Size\", \"Primary Genre\", \"Genres\",\n",
    "          \"Original Release Date\", \"Current Version Release Date\"]]\n",
    "\n",
    "df = df_nan_filter(df)\n",
    "\n",
    "for col in df:\n",
    "    df[col] = df[col].apply(lambda x: string_filter(str(x)))\n",
    "\n",
    "df[\"Original Release Date\"] = df[\"Original Release Date\"].apply(lambda x: change_date_format(x))\n",
    "df[\"Current Version Release Date\"] = df[\"Current Version Release Date\"].apply(lambda x: change_date_format(x))\n",
    "\n",
    "df.to_csv(\"filtered_appstore_games.csv\")"
   ]
  },
  {
   "cell_type": "code",
   "execution_count": 20,
   "metadata": {},
   "outputs": [
    {
     "name": "stdout",
     "output_type": "stream",
     "text": [
      "ID 284921427\n",
      "Name Sudoku\n",
      "Average User Rating 4.0\n",
      "User Rating Count 3553.0\n",
      "Price 2.99\n",
      "Description Join over 21,000,000 of our fans and download one of our Sudoku games today! Makers of the Best Sudoku Game of 2008, Sudoku (Free), we offer you the best selling Sudoku game for iPhone with great features and 1000 unique puzzles! Sudoku will give you many hours of fun and puzzle solving. Enjoy the challenge of solving Sudoku puzzles whenever or wherever you are using your iPhone or iPod Touch. OPTIONS All options are on by default, but you can turn them off in the Options menu Show Incorrect :: Shows incorrect answers in red. Smart Buttons :: Disables the number button when that number is completed on the game board. Smart Notes :: Removes the number from the notes in the box, column, and row that contains the cell with your correct answer. FEATURES 1000 unique handcrafted puzzles ALL puzzles solvable WITHOUT guessing Four different skill levels Challenge a friend Multiple color schemes \"ALL notes\": tap the \"All notes\" button on to show all the possible answers for each square. Tap the \"All notes\" button off to remove the notes. Hints: shows the answer for the selected square or a random square when one is not selected Pause the game at any time and resume where you left off Best times, progress statistics, and much more Do you want more? Try one of our other versions of sudoku which have all the same great features! * Try Color Sudoku for a fun twist to solving sudoku puzzles. * For advanced puzzle solving, try Expert Sudoku to challenge your sudoku solving skills.\n",
      "Developer Mighty Mighty Good Games\n",
      "Age Rating 4+\n",
      "Languages DA, NL, EN, FI, FR, DE, IT, JA, KO, NB, PL, PT, RU, ZH, ES, SV, ZH\n",
      "Size 15853568.0\n",
      "Primary Genre Games\n",
      "Genres Games, Strategy, Puzzle\n",
      "Original Release Date 2008-07-11\n",
      "Current Version Release Date 2017-05-30\n"
     ]
    }
   ],
   "source": [
    "for e in df:\n",
    "    print(e, df.loc[0, e])"
   ]
  },
  {
   "cell_type": "code",
   "execution_count": 11,
   "metadata": {},
   "outputs": [],
   "source": [
    "def delete_table():\n",
    "    conn = psycopg2.connect(\n",
    "        database=\"appstore_games\",\n",
    "        host=\"localhost\",\n",
    "        user=\"postgres_user\",\n",
    "        password=\"12345\"\n",
    "    )\n",
    "    curr = conn.cursor()\n",
    "    curr.execute('DROP TABLE appstore_games;')          \n",
    "    conn.commit()\n",
    "    conn.close()\n",
    "\n",
    "def create_table():\n",
    "    conn = psycopg2.connect(\n",
    "        database=\"appstore_games\",\n",
    "        host=\"localhost\",\n",
    "        user=\"postgres_user\",\n",
    "        password=\"12345\"\n",
    "    )\n",
    "    curr = conn.cursor()\n",
    "    curr.execute(\"\"\"CREATE TABLE appstore_games(\n",
    "             Id bigint PRIMARY KEY,\n",
    "             Name varchar,\n",
    "             Avg_user_rating float,\n",
    "             User_rating_count float,\n",
    "             Price float,\n",
    "             Description varchar,\n",
    "             Developer varchar,\n",
    "             Age_rating varchar,\n",
    "             Languages varchar,\n",
    "             Size float, \n",
    "             Primary_genre varchar,\n",
    "             Genres varchar,\n",
    "             Release_date date,\n",
    "             Last_update date\n",
    "             );\"\"\")           \n",
    "    conn.commit()\n",
    "    conn.close()\n",
    "\n",
    "def populate(df):\n",
    "    conn = psycopg2.connect(\n",
    "        database=\"appstore_games\",\n",
    "        host=\"localhost\",\n",
    "        user=\"postgres_user\",\n",
    "        password=\"12345\"\n",
    "    )\n",
    "    curr = conn.cursor()\n",
    "    for idx in range(df.shape[0]):\n",
    "        tmp = df.iloc[idx]\n",
    "        curr.execute(\"\"\"INSERT INTO appstore_games\n",
    "            (Id, Name, Avg_user_rating, User_rating_count, Price, Description, Developer,\n",
    "            Age_rating, Languages, Size, Primary_genre, Genres, Release_date, Last_update\n",
    "            ) VALUES (%s, %s, %s, %s, %s, %s, %s, %s, %s, %s, %s, %s, %s, %s)\"\"\",\n",
    "                (tmp[\"ID\"], tmp[\"Name\"], tmp[\"Average User Rating\"], tmp[\"User Rating Count\"],\n",
    "                 tmp[\"Price\"], tmp[\"Description\"], tmp[\"Developer\"], tmp[\"Age Rating\"],\n",
    "                 tmp[\"Languages\"], tmp[\"Size\"], tmp[\"Primary Genre\"], tmp[\"Genres\"],\n",
    "                 tmp[\"Original Release Date\"], tmp[\"Current Version Release Date\"]))\n",
    "    conn.commit()\n",
    "    conn.close()\n",
    "\n",
    "def display_table():\n",
    "    conn = psycopg2.connect(\n",
    "        database=\"appstore_games\",\n",
    "        host=\"localhost\",\n",
    "        user=\"postgres_user\",\n",
    "        password=\"12345\"\n",
    "    )\n",
    "    curr = conn.cursor()\n",
    "    curr.execute(\"\"\"SELECT * FROM appstore_games\"\"\")\n",
    "    response = curr.fetchall()\n",
    "    for row in response[:10]:\n",
    "        print(row)\n",
    "    conn.close()"
   ]
  },
  {
   "cell_type": "code",
   "execution_count": 12,
   "metadata": {},
   "outputs": [],
   "source": [
    "delete_table()\n",
    "create_table()"
   ]
  },
  {
   "cell_type": "code",
   "execution_count": 13,
   "metadata": {},
   "outputs": [],
   "source": [
    "populate(df)"
   ]
  },
  {
   "cell_type": "code",
   "execution_count": 16,
   "metadata": {},
   "outputs": [
    {
     "name": "stdout",
     "output_type": "stream",
     "text": [
      "(284921427, 'Sudoku', 4.0, 3553.0, 2.99, 'Join over 21,000,000 of our fans and download one of our Sudoku games today! Makers of the Best Sudoku Game of 2008, Sudoku (Free), we offer you the best selling Sudoku game for iPhone with great features and 1000 unique puzzles! Sudoku will give you many hours of fun and puzzle solving. Enjoy the challenge of solving Sudoku puzzles whenever or wherever you are using your iPhone or iPod Touch. OPTIONS All options are on by default, but you can turn them off in the Options menu Show Incorrect :: Shows incorrect answers in red. Smart Buttons :: Disables the number button when that number is completed on the game board. Smart Notes :: Removes the number from the notes in the box, column, and row that contains the cell with your correct answer. FEATURES 1000 unique handcrafted puzzles ALL puzzles solvable WITHOUT guessing Four different skill levels Challenge a friend Multiple color schemes \"ALL notes\": tap the \"All notes\" button on to show all the possible answers for each square. Tap the \"All notes\" button off to remove the notes. Hints: shows the answer for the selected square or a random square when one is not selected Pause the game at any time and resume where you left off Best times, progress statistics, and much more Do you want more? Try one of our other versions of sudoku which have all the same great features! * Try Color Sudoku for a fun twist to solving sudoku puzzles. * For advanced puzzle solving, try Expert Sudoku to challenge your sudoku solving skills.', 'Mighty Mighty Good Games', '4+', 'DA, NL, EN, FI, FR, DE, IT, JA, KO, NB, PL, PT, RU, ZH, ES, SV, ZH', 15853568.0, 'Games', 'Games, Strategy, Puzzle', datetime.date(2008, 7, 11), datetime.date(2017, 5, 30))\n",
      "(284926400, 'Reversi', 3.5, 284.0, 1.99, 'The classic game of Reversi, also known as Othello, is a much-loved strategy board game. It is often described as taking only a minute to learn but a lifetime to master. Each game only takes a few minutes, making it ideal for your iPhone or iPod Touch. It can be played by all ages. This continues to be one of the most sought-after versions of the game for the natural AI when playing against the CPU and the refreshing, crisp graphics. FEATURES: - One or two player mode - Six levels of difficulty from beginner to guru - Each level has its own style of play - Strong computer opponent at higher levels - Fast computer play! - Option for suggestions to help improve your game play - Four gorgeously styled boards - Unlimited undo and redo - Scoreboard - Auto-save game in progress - Can listen to your iPod whilst playing \"There are several free Reversi games in the app store, but none have the breadth of options or depth of AI of this paid version. AppCraver looks forward to seeing what developer Kiss The Machine comes up with next\" - www.appcraver.com \"For those who are serious about playing Reversi and want a serious AI challenge get this one\" - mrbass.org best iPhone and iPod Touch games', 'Kiss The Machine', '4+', 'EN', 12328960.0, 'Games', 'Games, Strategy, Board', datetime.date(2008, 7, 11), datetime.date(2018, 5, 17))\n",
      "(284946595, 'Morocco', 3.0, 8376.0, 0.0, 'Play the classic strategy game Othello (also known as Reversi) on your iPhone or iPod Touch. The object is to finish the game with more of your pieces on the board than your opponent. FEATURES - Play against the iPhone or against another person. - Three difficulty levels allow for casual play while still providing a challenge to experienced players. - Option to show (or hide) the current legal moves. Very useful when learning to play. - Option to turn on or off disc flipping animations. - Automatically saves the game when you leave so you can pick it back up later.', 'Bayou Games', '4+', 'EN', 674816.0, 'Games', 'Games, Board, Strategy', datetime.date(2008, 7, 11), datetime.date(2017, 9, 5))\n",
      "(285755462, 'Sudoku (Free)', 3.5, 190394.0, 0.0, 'Top 100 free app for over a year. Rated \"Best Sudoku Game of the Year\" by Apple. Rated #9 Game of the Year by Apple. Rated #24 App of the Year by Apple with over 10,000 apps competing! With unique handcrafted puzzles across four different skill levels, Sudoku (Free) is a great introduction to the fun and puzzle solving challenge of Sudoku. OPTIONS All options are on by default, but you can turn them off in the Options menu Show Incorrect :: Shows incorrect answers in red. Smart Buttons :: Disables the number button when that number is completed on the game board. Smart Notes :: Removes the number from the notes in the box, column, and row that contains the cell with your correct answer. FEATURES Multiple color schemes Unique handcrafted puzzles Four different skill levels Challenge a friend ALL puzzles are solvable WITHOUT guessing 4 color schemes \"ALL notes\": tap the \"All notes\" button on to show all the possible answers for each square. Tap the \"All notes\" button off to remove the notes. Hints: shows the answer for the selected square or a random square when one is not selected Pause the game at any time and resume where you left off Best times, progress statistics, and much more Do you want more? Try one of our other versions of sudoku which have all the same great features! * Look for our paid edition of Sudoku with 800 puzzles and more unique color schemes. * Or try Color Sudoku for a fun twist to solving sudoku puzzles. * For advanced puzzle solving, try Expert Sudoku to challenge your sudoku solving skills.', 'Mighty Mighty Good Games', '4+', 'DA, NL, EN, FI, FR, DE, IT, JA, KO, NB, PL, PT, RU, ZH, ES, SV, ZH', 21552128.0, 'Games', 'Games, Strategy, Puzzle', datetime.date(2008, 7, 23), datetime.date(2017, 5, 30))\n",
      "(285831220, 'Senet Deluxe', 3.5, 28.0, 2.99, \"Senet Deluxe - The Ancient Game of Life and Afterlife Senet is an ancient Egyptian race game and the predecessor of our modern Backgammon. The oldest known form of the game is shown in a painting from the tomb of Hesy (circa 2686-2613 BCE). Many pictures of the game and artifacts have been discovered and are displayed in Museums around the world. The commonness of these finds indicates that the game was very popular in its time. The main adversaries in Senet are the Spools and the Pyramids. These pawns follow a path from their start positions to the House of Horus in an inverted 'S'. The player moving all of his pawns off the board first wins. Fields on the Senet board are called houses. Some of these have special significance and are adorned with icons like the Ankh symbol. Instead of dice flattened sticks are used. Each stick has a bright side and a dark side. Every bright side is a point. If only dark sides are showing the player is awarded 5 points. When a 1, 4, or 5 is thrown the player gets another turn. When moving into a field occupied by an opponent, the pieces switch places. If, however, the opponent's pawn is part of a row of two or more, it cannot be beaten. It is possible to 'jump' over an opponent if it isn't part of a row of 3 pieces or more. 3 pieces are considered a block and are an important strategic tool. Through symbology Senet hints at the afterlife as seen from an Egyptian point of view. If one's piece is beaten on one of the last three fields or the jump over the House of Water is not successful one moves back to the house of Rebirth. In such the game alludes to reincarnation and the journey of the dead. Senet Deluxe is a truly unique strategy game. It features great animation, a soundtrack, an intelligent adversary, enforceable backwards moves, highlighting for acceptable moves, game statistics and online help. Be prepared to spend many hours with the most popular game of the antiquity. For more screenshots and several videos of the application in action, please visit the website indicated below.\", 'RoGame Software', '4+', 'DA, NL, EN, FR, DE, EL, IT, JA, KO, NO, PT, RU, ZH, ES, SV', 34689024.0, 'Games', 'Games, Strategy, Board, Education', datetime.date(2008, 7, 18), datetime.date(2018, 7, 22))\n",
      "(291894818, 'Ane Rouge', 4.5, 1.0, 0.0, 'Your Goal is to make leave the red square towards the top of the board. This game seem very difficult, ideal to develop some reflexion. This Ipod/iphone implementation is close to best simulate original wood pieces. A minimum of 81 blows are necessary to make leave enclosed red square, maybe you will use more 300 blows with a severe drive. Try demolished it ! - Automatic saving your game when quit. - Shake it to restart new game. - Net best score on request. - Can play without net connection. - You can add your best score in the best net list. JF Pautex 2008-2017', 'Jean-Francois Pautex', '4+', 'EN, FR', 1190912.0, 'Games', 'Games, Puzzle, Education, Strategy', datetime.date(2008, 9, 27), datetime.date(2017, 3, 8))\n",
      "(286210009, 'Sudoku - Classic number puzzle', 3.0, 47.0, 0.0, 'Sudoku will tease your brain, challenge you or allow you to unwind and relax. With the easiest interface, it will give you the perfect Sudoku experience. Big numbers, a straight-forward toolbar for the actions you will use the most, plus all the options to personalise your game. Choose your level, from easy to expert, have your mistakes counted and duplicated numbers highlighted or choose the Pro Mode to have no help in solving your puzzle. Get hints whenever you are stuck and pencil in your notes or erase entries. Choose among 3 themes for the look of your board: the white and elegant, for a light, modern look; the blue for a touch of originality or the dark theme, best for low light environments or to relax even more. To relax or challenge yourself, for your time out or for a bit of brain training, Sudoku is the game for you. Features of Sudoku: - Get a new puzzle every time. Sudoku has thousands of different boards for you, all with a unique solution. - Challenge yourself with 4 difficulty levels: for beginners and experts alike. - Use the Hints whenever you need a little help getting through the puzzle. - Make the most of the Pencil Mode, taking notes of all the possible numbers that could go in a cell. - Duplicated numbers in a column, row or block will be highlighted for you to avoid repetitions. - Erase a number or undo a move easily. - Go Pro to play as if you had pen and paper. No mistakes will be counted for you, no duplicates will be highlighted. Its just you and your puzzle. - Choose one of the amazing 3 themes: paperwhite, dark (ideal for playing with less light) and original blue. - Unlock fun achievements. Can you finish a game in 30 seconds or solve a puzzle without undos? Additional challenges for additional fun. - Worldwide Leaderboard to compete with players of Sudoku from all over the world. Take this amazing brain training with you anywhere, anytime. Download it now and start playing the classic logic puzzles with numbers straight away. Free. If you have a critic, suggestion or just want to say \"hi\" please write us: support@outofthebit.com Follow us on social media: Facebook/outofthebit Twitter: @outofthebit', 'OutOfTheBit Ltd', '4+', 'EN', 48672768.0, 'Games', 'Games, Entertainment, Strategy, Puzzle', datetime.date(2008, 7, 30), datetime.date(2019, 4, 29))\n",
      "(286313771, 'Gravitation', 2.5, 35.0, 0.0, \"Gravitation is a new implementation of the puzzle strategy game, specifically written to take advantage of iOS 3D accelerators. In this new version, as you rotate your device, the ball's will 'fall' whichever direction is currently down. By rotating the screen, you can change the layout of the balls as they fall to the new bottom. The more balls of the same color that are connected, the higher the points you get. Game Center support shows the scores of you, your friends and all players. Gravitation will remember its position if it is interrupted. Multiple player names may be entered. Support for English, French, Italian, Spanish, Portuguese, Japanese and Chinese is included.\", 'Robert Farnum', '4+', 'EN', 6328320.0, 'Games', 'Games, Entertainment, Puzzle, Strategy', datetime.date(2008, 7, 30), datetime.date(2013, 11, 14))\n",
      "(286363959, 'Colony', 2.5, 125.0, 0.99, \"50 levels of addictive puzzling strategy fun! Play against your device or another player, taking it in turns to place triangular pieces on the board to fill up hexagons. When a hexagon has as many pieces within it as it has hexagons touching it, it explodes and sends its pieces to those hexagons, 'colonising' them and making them your own. Gain bonuses by setting off chain reactions of explosions! Once you've colonised the required percentage of hexagons for that level, you win and advance to the next level. Plan your game wisely, as one wrong move can really turn the tables! Features: - 1-player and 2-player modes - 50 levels! - Hi-scores - Special bonus hexagons - Random boards - Levels grow in difficulty - Resume a saved game - Start at any level you've previously reached in a 1-player game\", 'Chris Haynes', '4+', 'EN', 64333824.0, 'Games', 'Games, Strategy, Board', datetime.date(2008, 8, 3), datetime.date(2018, 10, 3))\n",
      "(286566987, 'Carte', 2.5, 44.0, 0.0, \"Jeu simple qui consiste trouver comment retourner 6 cartes en suivant la rgle. - Click sur une carte retournera la seconde suivante. - Une carte retourne n'est plus clickable. Exemple : click sur la carte 1 retournera la carte 3 Trouverez vous comment retourner au moins 6 cartes ? Le tirage des cartes est alatoire. Jeu simple de stratgie adapt aux enfants. Pautex JF, NANCY 2010-2017\", 'Jean-Francois Pautex', '4+', 'FR', 2657280.0, 'Games', 'Games, Strategy, Board, Entertainment', datetime.date(2008, 8, 3), datetime.date(2017, 11, 23))\n"
     ]
    }
   ],
   "source": [
    "display_table()"
   ]
  },
  {
   "cell_type": "code",
   "execution_count": null,
   "metadata": {},
   "outputs": [],
   "source": []
  }
 ],
 "metadata": {
  "kernelspec": {
   "display_name": "Python 3",
   "language": "python",
   "name": "python3"
  },
  "language_info": {
   "codemirror_mode": {
    "name": "ipython",
    "version": 3
   },
   "file_extension": ".py",
   "mimetype": "text/x-python",
   "name": "python",
   "nbconvert_exporter": "python",
   "pygments_lexer": "ipython3",
   "version": "3.7.4"
  }
 },
 "nbformat": 4,
 "nbformat_minor": 2
}
